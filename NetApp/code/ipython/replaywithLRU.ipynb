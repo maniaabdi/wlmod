{
 "cells": [
  {
   "cell_type": "code",
   "execution_count": 25,
   "metadata": {},
   "outputs": [
    {
     "name": "stdout",
     "output_type": "stream",
     "text": [
      "dat: /home/maniaa/PyMimircache/data/trace.csv\n",
      "number of requests: 113872\n",
      "number of uniq obj/blocks: 48974\n",
      "cold miss ratio: 0.4301\n",
      "top N popular (obj, num of requests): \n",
      "[('3345071', 1630),\n",
      " ('6160447', 1342),\n",
      " ('6160455', 1341),\n",
      " ('1313767', 652),\n",
      " ('6160431', 360),\n",
      " ('6160439', 360),\n",
      " ('1313768', 326),\n",
      " ('1329911', 326)]\n",
      "number of obj/block accessed only once: 21049\n",
      "frequency mean: 2.33\n",
      "time span: 7200089885.0\n",
      "[-1 -1 -1 ... -1 -1 -1]\n",
      "{0: 0.0, 1: 0.02357910636504145, 2: 0.029392651398060982, 3: 0.03431923563299143, 4: 0.04097583251369959, 5: 0.04306589855276099, 6: 0.04529647323310383, 7: 0.04695623155824083, 8: 0.049845440494590415, 9: 0.05309470282422369, 10: 0.054903751580722214, 11: 0.057055290150344246, 12: 0.05941759168188843, 13: 0.06152522130111002, 14: 0.06421244906561753, 15: 0.06639911479555992, 16: 0.06837501756358015, 17: 0.0694639595335113, 18: 0.07097442742728677, 19: 0.07191407896585639, 20: 0.07298545735562736}\n"
     ]
    }
   ],
   "source": [
    "from PyMimircache import Cachecow\n",
    "\n",
    "c = Cachecow()\n",
    "c.csv(\"/home/maniaa/PyMimircache/data/trace.csv\", \n",
    "      init_params={\"header\" :True, 'label' :5, 'real_time':2, \"delimiter\": \",\"})\n",
    "print(c.stat())\n",
    "print(c.get_reuse_distance())\n",
    "print(c.get_hit_ratio_dict(\"LRU\", cache_size=20))"
   ]
  },
  {
   "cell_type": "code",
   "execution_count": 27,
   "metadata": {},
   "outputs": [
    {
     "name": "stdout",
     "output_type": "stream",
     "text": [
      "[INFO]:    17:50:50: \u001b[93mcachecow.py:768 HRC plotting LRU computation finished using time 0.027437448501586914 s\u001b[0m\n",
      "[INFO]:    17:50:51: \u001b[93mcachecow.py:768 HRC plotting LFU computation finished using time 1.0047755241394043 s\u001b[0m\n",
      "[INFO]:    17:50:52: \u001b[93mcachecow.py:768 HRC plotting Optimal computation finished using time 1.0965259075164795 s\u001b[0m\n",
      "[INFO]:    17:50:54: \u001b[93mcachecow.py:781 HRC plot is saved as HRC.png\u001b[0m\n",
      "[INFO]:    17:51:02: \u001b[93mcHeatmap.py:522 plot is saved as CHeatmap_hit_ratio_start_time_end_time.png\u001b[0m\n"
     ]
    },
    {
     "name": "stderr",
     "output_type": "stream",
     "text": [
      "/usr/local/lib/python3.6/dist-packages/PyMimircache/profiler/cHeatmap.py:524: UserWarning: Matplotlib is currently using agg, which is a non-GUI backend, so cannot show the figure.\n",
      "  try: plt.show()\n"
     ]
    }
   ],
   "source": [
    "c.plotHRCs([\"LRU\", \"LFU\", \"Optimal\"])\n",
    "c.heatmap('r', \"hit_ratio_start_time_end_time\", cache_size=200, time_interval=10000000)"
   ]
  },
  {
   "cell_type": "code",
   "execution_count": null,
   "metadata": {},
   "outputs": [],
   "source": []
  }
 ],
 "metadata": {
  "kernelspec": {
   "display_name": "Python 3",
   "language": "python",
   "name": "python3"
  },
  "language_info": {
   "codemirror_mode": {
    "name": "ipython",
    "version": 3
   },
   "file_extension": ".py",
   "mimetype": "text/x-python",
   "name": "python",
   "nbconvert_exporter": "python",
   "pygments_lexer": "ipython3",
   "version": "3.6.9"
  }
 },
 "nbformat": 4,
 "nbformat_minor": 2
}
