{
 "cells": [
  {
   "cell_type": "markdown",
   "metadata": {},
   "source": [
    "What this code does:\n",
    "1. For each day in the trace dataset calculate the amount of written data in terms of number of objects and number of bytes. \n",
    "2. Categorize the written data based on its size and compute how much of each size exists. "
   ]
  },
  {
   "cell_type": "code",
   "execution_count": 4,
   "metadata": {},
   "outputs": [],
   "source": [
    "import matplotlib\n",
    "from matplotlib import rc\n",
    "rc('text',usetex=True)\n",
    "rc('text.latex', preamble=r'\\usepackage{color}')\n",
    "\n",
    "\n",
    "import matplotlib.pyplot as plt\n",
    "import matplotlib.ticker as ticker\n",
    "\n",
    "import pandas as pd\n",
    "import numpy as np\n",
    "import math\n",
    "\n",
    "import json\n",
    "from os import listdir\n",
    "from os.path import isfile, join\n",
    "import sys\n",
    "import glob\n",
    "import graph_tool.all as gt\n",
    "from datetime import datetime, date, time\n",
    "\n",
    "\n",
    "statistics_dir = '/home/maniaa/ashes/dataset/statistics/'\n",
    "stat_csv = [(statistics_dir + f) for f in listdir(statistics_dir) if (f.endswith(\".csv\") and isfile(join(statistics_dir, f)))]\n",
    "stat_csv.sort()\n",
    "stat_csv = stat_csv[1:]"
   ]
  },
  {
   "cell_type": "code",
   "execution_count": 140,
   "metadata": {},
   "outputs": [
    {
     "name": "stdout",
     "output_type": "stream",
     "text": [
      "/home/maniaa/ashes/dataset/statistics/08-02-2018.csv\n"
     ]
    }
   ],
   "source": [
    "pd.set_option(\"display.max_rows\", 99)\n",
    "pd.set_option('max_colwidth', 100)\n",
    "\n",
    "\n",
    "\n",
    "intermediate_data = {}\n",
    "\n",
    "\n",
    "\n",
    "def intermediate_data_collector(row, intermediate_data):\n",
    "    if row['tmpouput'] not in intermediate_data:\n",
    "        intermediate_data[row['tmpouput']] = {'size': row['HDFS_OUTPUT_SIZE'], \n",
    "                                  'id': len(intermediate_data), 'job': row['jobid'], 'overwrite': 0}\n",
    "    intermediate_data[row['tmpouput']]['overwrite'] += 1\n",
    "    \n",
    "total_jobs_count = 0\n",
    "total_hdfs_write = 0\n",
    "total_hdfs_read = 0\n",
    "\n",
    "for index, f in enumerate(stat_csv):\n",
    "    print(f) # 6Am of each day\n",
    "    month, day, year = f.split('/')[-1].split('.csv')[0].split('-')\n",
    "    trace_starttime = datetime.combine(date(int(year), int(month), int(day)), time(7, 0))\n",
    "    \n",
    "    df = pd.read_csv(f)\n",
    "    df = df[df['submitTime']/1000 > datetime.timestamp(trace_starttime)]\n",
    "    df = df[df['state'] == 'SUCCEEDED']\n",
    "    df['submit_ts'] = df['submitTime']//1000 - datetime.timestamp(trace_starttime);\n",
    "    df['submit_10min'] = df['submit_ts']//(60); \n",
    "    df.sort_values('submit_ts', inplace=True)\n",
    "    df.reset_index(inplace=True)\n",
    "    total_jobs_count += len(df)\n",
    "    total_hdfs_write += df['HDFS_OUTPUT_SIZE'].sum()\n",
    "    total_hdfs_read += df['HDFS_INPUT_SIZE'].sum()\n",
    "    \n",
    "    df.apply(intermediate_data_collector, axis=1, args=[intermediate_data])\n",
    "    \n",
    "    if index == 0:\n",
    "        break"
   ]
  },
  {
   "cell_type": "code",
   "execution_count": 75,
   "metadata": {},
   "outputs": [
    {
     "name": "stdout",
     "output_type": "stream",
     "text": [
      "Total jobs: 398132 Total bytes written 540.39 TB, Total bytes read 11.39 PB\n",
      "Total writes <1K: 7.87 MB, number of objects: 371108 , % of written objects: 96.46 \n",
      "Total writes <1M: 1.26 GB, number of objects: 3652 , % of written objects: 0.95 \n",
      "Total writes <1G: 1.59 TB, number of objects: 8011 , % of written objects: 2.08 \n",
      "Total writes <1T: 191.21 TB, number of objects: 1873 , % of written objects: 0.49 \n",
      "Total writes >1T: 349.99 TB, number of objects: 102 , % of written objects: 0.03\n"
     ]
    },
    {
     "data": {
      "text/html": [
       "<div>\n",
       "<style scoped>\n",
       "    .dataframe tbody tr th:only-of-type {\n",
       "        vertical-align: middle;\n",
       "    }\n",
       "\n",
       "    .dataframe tbody tr th {\n",
       "        vertical-align: top;\n",
       "    }\n",
       "\n",
       "    .dataframe thead th {\n",
       "        text-align: right;\n",
       "    }\n",
       "</style>\n",
       "<table border=\"1\" class=\"dataframe\">\n",
       "  <thead>\n",
       "    <tr style=\"text-align: right;\">\n",
       "      <th></th>\n",
       "      <th>path</th>\n",
       "      <th>size</th>\n",
       "      <th>id</th>\n",
       "      <th>job</th>\n",
       "      <th>overwrite</th>\n",
       "    </tr>\n",
       "  </thead>\n",
       "  <tbody>\n",
       "    <tr>\n",
       "      <th>0</th>\n",
       "      <td>hdfs://datalake-nnha/tmp/hive/saia/721b7a99-a8cf-4b91-b054-1707d1b1502e/hive_2018-08-02_06-48-00...</td>\n",
       "      <td>5</td>\n",
       "      <td>0</td>\n",
       "      <td>job_1531656020138_226152</td>\n",
       "      <td>1</td>\n",
       "    </tr>\n",
       "    <tr>\n",
       "      <th>1</th>\n",
       "      <td>hdfs://datalake-nnha/tmp/hive/netappiq/2b49cb7f-dd18-4a5f-a48b-320cc1b64a9b/hive_2018-08-02_07-4...</td>\n",
       "      <td>17</td>\n",
       "      <td>1</td>\n",
       "      <td>job_1531656020138_226793</td>\n",
       "      <td>1</td>\n",
       "    </tr>\n",
       "    <tr>\n",
       "      <th>2</th>\n",
       "      <td>hdfs://datalake-nnha/tmp/hive/netappiq/035615b3-2e03-4724-b67a-86e87161e6ca/hive_2018-08-02_11-3...</td>\n",
       "      <td>17</td>\n",
       "      <td>2</td>\n",
       "      <td>job_1531656020138_229768</td>\n",
       "      <td>1</td>\n",
       "    </tr>\n",
       "    <tr>\n",
       "      <th>3</th>\n",
       "      <td>hdfs://datalake-nnha/tmp/hive/netappiq/99770f06-1605-4499-b230-a755a6771e73/hive_2018-08-02_10-1...</td>\n",
       "      <td>17</td>\n",
       "      <td>3</td>\n",
       "      <td>job_1531656020138_228769</td>\n",
       "      <td>1</td>\n",
       "    </tr>\n",
       "    <tr>\n",
       "      <th>4</th>\n",
       "      <td>hdfs://datalake-nnha/hive_external_tables/Users_db/guestdb/ubs_shelf_asups_sd/.hive-staging_hive...</td>\n",
       "      <td>52</td>\n",
       "      <td>4</td>\n",
       "      <td>job_1531656020138_229559</td>\n",
       "      <td>1</td>\n",
       "    </tr>\n",
       "    <tr>\n",
       "      <th>...</th>\n",
       "      <td>...</td>\n",
       "      <td>...</td>\n",
       "      <td>...</td>\n",
       "      <td>...</td>\n",
       "      <td>...</td>\n",
       "    </tr>\n",
       "    <tr>\n",
       "      <th>384741</th>\n",
       "      <td>hdfs://datalake-nnha/tmp/hive/netappiq/de08fa93-fbd1-4b51-a2fe-8a028e7fb04b/hive_2018-09-01_10-5...</td>\n",
       "      <td>17</td>\n",
       "      <td>384741</td>\n",
       "      <td>job_1534545750476_185906</td>\n",
       "      <td>1</td>\n",
       "    </tr>\n",
       "    <tr>\n",
       "      <th>384742</th>\n",
       "      <td>hdfs://datalake-nnha/hive_external_tables/Users_db/guestdb/ubs_shelf_asups_sd/.hive-staging_hive...</td>\n",
       "      <td>52</td>\n",
       "      <td>384742</td>\n",
       "      <td>job_1534545750476_183903</td>\n",
       "      <td>1</td>\n",
       "    </tr>\n",
       "    <tr>\n",
       "      <th>384743</th>\n",
       "      <td>hdfs://datalake-nnha/tmp/hive/saia/c2db68e7-f151-4729-ae80-fac18afd6362/hive_2018-09-01_04-59-10...</td>\n",
       "      <td>8</td>\n",
       "      <td>384743</td>\n",
       "      <td>job_1534545750476_180580</td>\n",
       "      <td>1</td>\n",
       "    </tr>\n",
       "    <tr>\n",
       "      <th>384744</th>\n",
       "      <td>hdfs://datalake-nnha/tmp/hive/netappiq/65fead4b-05a8-4802-b117-2968fd934d04/hive_2018-09-01_00-0...</td>\n",
       "      <td>17</td>\n",
       "      <td>384744</td>\n",
       "      <td>job_1534545750476_177777</td>\n",
       "      <td>1</td>\n",
       "    </tr>\n",
       "    <tr>\n",
       "      <th>384745</th>\n",
       "      <td>hdfs://datalake-nnha/tmp/hive/netappiq/e032409a-ce9a-433a-9c1d-3c69ea74e96e/hive_2018-09-01_05-3...</td>\n",
       "      <td>17</td>\n",
       "      <td>384745</td>\n",
       "      <td>job_1534545750476_181083</td>\n",
       "      <td>1</td>\n",
       "    </tr>\n",
       "  </tbody>\n",
       "</table>\n",
       "<p>384746 rows × 5 columns</p>\n",
       "</div>"
      ],
      "text/plain": [
       "                                                                                                       path  \\\n",
       "0       hdfs://datalake-nnha/tmp/hive/saia/721b7a99-a8cf-4b91-b054-1707d1b1502e/hive_2018-08-02_06-48-00...   \n",
       "1       hdfs://datalake-nnha/tmp/hive/netappiq/2b49cb7f-dd18-4a5f-a48b-320cc1b64a9b/hive_2018-08-02_07-4...   \n",
       "2       hdfs://datalake-nnha/tmp/hive/netappiq/035615b3-2e03-4724-b67a-86e87161e6ca/hive_2018-08-02_11-3...   \n",
       "3       hdfs://datalake-nnha/tmp/hive/netappiq/99770f06-1605-4499-b230-a755a6771e73/hive_2018-08-02_10-1...   \n",
       "4       hdfs://datalake-nnha/hive_external_tables/Users_db/guestdb/ubs_shelf_asups_sd/.hive-staging_hive...   \n",
       "...                                                                                                     ...   \n",
       "384741  hdfs://datalake-nnha/tmp/hive/netappiq/de08fa93-fbd1-4b51-a2fe-8a028e7fb04b/hive_2018-09-01_10-5...   \n",
       "384742  hdfs://datalake-nnha/hive_external_tables/Users_db/guestdb/ubs_shelf_asups_sd/.hive-staging_hive...   \n",
       "384743  hdfs://datalake-nnha/tmp/hive/saia/c2db68e7-f151-4729-ae80-fac18afd6362/hive_2018-09-01_04-59-10...   \n",
       "384744  hdfs://datalake-nnha/tmp/hive/netappiq/65fead4b-05a8-4802-b117-2968fd934d04/hive_2018-09-01_00-0...   \n",
       "384745  hdfs://datalake-nnha/tmp/hive/netappiq/e032409a-ce9a-433a-9c1d-3c69ea74e96e/hive_2018-09-01_05-3...   \n",
       "\n",
       "        size      id                       job  overwrite  \n",
       "0          5       0  job_1531656020138_226152          1  \n",
       "1         17       1  job_1531656020138_226793          1  \n",
       "2         17       2  job_1531656020138_229768          1  \n",
       "3         17       3  job_1531656020138_228769          1  \n",
       "4         52       4  job_1531656020138_229559          1  \n",
       "...      ...     ...                       ...        ...  \n",
       "384741    17  384741  job_1534545750476_185906          1  \n",
       "384742    52  384742  job_1534545750476_183903          1  \n",
       "384743     8  384743  job_1534545750476_180580          1  \n",
       "384744    17  384744  job_1534545750476_177777          1  \n",
       "384745    17  384745  job_1534545750476_181083          1  \n",
       "\n",
       "[384746 rows x 5 columns]"
      ]
     },
     "execution_count": 75,
     "metadata": {},
     "output_type": "execute_result"
    }
   ],
   "source": [
    "print('Total jobs:', total_jobs_count, 'Total bytes written', round(total_hdfs_write/(1<<40), 2),\n",
    "      'TB, Total bytes read', round(total_hdfs_read/(1<<50), 2), 'PB')\n",
    "\n",
    "df2 = pd.DataFrame.from_dict(intermediate_data, orient='index').reset_index()\n",
    "df2.columns = ['path', 'size', 'id', 'job', 'overwrite']\n",
    "\n",
    "df_lt_1k = df2[df2['size'] < (1 << 10)]\n",
    "total_writ_1k = (df_lt_1k['size']*df_lt_1k['overwrite']).sum()\n",
    "\n",
    "df_lt_1m = df2[(df2['size'] >= (1 << 10)) & (df2['size'] < (1 << 20))]\n",
    "total_writ_1m = (df_lt_1m['size']*df_lt_1m['overwrite']).sum()\n",
    "\n",
    "df_lt_1g = df2[(df2['size'] >= (1 << 20)) & (df2['size'] < (1 << 30))]\n",
    "total_writ_1g = (df_lt_1g['size']*df_lt_1g['overwrite']).sum()\n",
    "\n",
    "df_lt_1t= df2[(df2['size'] >= (1 << 30)) & (df2['size'] < (1 << 40))]\n",
    "total_writ_1t = (df_lt_1t['size']*df_lt_1t['overwrite']).sum()\n",
    "\n",
    "df_gt_1t = df2[df2['size'] >= (1 << 40)]\n",
    "total_writ_gt_1t = (df_gt_1t['size']*df_gt_1t['overwrite']).sum()\n",
    "\n",
    "print('Total writes <1K:', round(total_writ_1k/(1 << 20), 2), 'MB, number of objects:', len(df_lt_1k), ', % of written objects:', round(100*len(df_lt_1k)/len(df2), 2),\n",
    "     '\\nTotal writes <1M:', round(total_writ_1m/(1 << 30), 2), 'GB, number of objects:', len(df_lt_1m), ', % of written objects:', round(100*len(df_lt_1m)/len(df2), 2),\n",
    "     '\\nTotal writes <1G:', round(total_writ_1g/(1 << 40), 2), 'TB, number of objects:', len(df_lt_1g), ', % of written objects:', round(100*len(df_lt_1g)/len(df2), 2),\n",
    "     '\\nTotal writes <1T:', round(total_writ_1t/(1 << 40), 2), 'TB, number of objects:', len(df_lt_1t), ', % of written objects:', round(100*len(df_lt_1t)/len(df2), 2),    \n",
    "     '\\nTotal writes >1T:', round(total_writ_gt_1t/(1 << 40), 2), 'TB, number of objects:', len(df_gt_1t), ', % of written objects:', round(100*len(df_gt_1t)/len(df2), 2))\n",
    "\n",
    "df2"
   ]
  },
  {
   "cell_type": "code",
   "execution_count": 149,
   "metadata": {},
   "outputs": [
    {
     "data": {
      "text/plain": [
       "Text(0, 0.5, 'Read ')"
      ]
     },
     "execution_count": 149,
     "metadata": {},
     "output_type": "execute_result"
    },
    {
     "data": {
      "image/png": "[encoded data removed]",
      "text/plain": [
       "<Figure size 576x432 with 1 Axes>"
      ]
     },
     "metadata": {
      "needs_background": "light"
     },
     "output_type": "display_data"
    }
   ],
   "source": [
    "# for multiple \n",
    "def format_xticks10min(x, pos=None):\n",
    "    hour = (int(x)*600)//3600\n",
    "    daytime = ''\n",
    "    if 0 <= hour and hour < 7:\n",
    "        daytime = 'AM'\n",
    "        hour += 7;\n",
    "    elif hour == 7:\n",
    "        daytime = 'PM'\n",
    "        hour += 7;\n",
    "    elif 7 < hour and hour < 19:\n",
    "        daytime = 'PM'\n",
    "        hour -= 5;\n",
    "    elif hour == 19:\n",
    "        daytime = 'AM'\n",
    "        hour -= 5;\n",
    "    elif 19 < hour and hour <= 24:\n",
    "        daytime = 'AM'\n",
    "        hour -= 17;\n",
    "    return str(hour) + daytime\n",
    "\n",
    "\n",
    "def format_ytickslog(y, pos=None):\n",
    "    size = int(y)\n",
    "    if size <= 0:\n",
    "        return size;\n",
    "    \n",
    "    log = math.log2(size)\n",
    "    if log < 10:\n",
    "        return str(size) + ' B'\n",
    "    if log >= 10 and log < 20:\n",
    "        return str(int(2**(log - 10))) + ' KB'\n",
    "    if log >= 20 and log < 30:\n",
    "        return str(int(2**(log - 20))) + ' MB'\n",
    "    if log >= 30 and log < 40:\n",
    "        return str(int(2**(log - 30))) + ' GB'\n",
    "    if log >= 40:\n",
    "        return str(int(2**(log - 40))) + ' TB'\n",
    "    return str(size)\n",
    "\n",
    "dfg = df.groupby('submit_ts').agg({'HDFS_OUTPUT_SIZE': 'sum', 'HDFS_INPUT_SIZE': 'sum'}).reset_index()\n",
    "dfg.columns = ['submitts', 'written', 'read']\n",
    "\n",
    "fig, ax = plt.subplots(figsize= (8, 6))\n",
    "\n",
    "#dfg.plot.scatter(x='submitts', y='written', ax=ax, color='green')\n",
    "dfg.plot.scatter(x='submitts', y='read', ax=ax, color='blue')\n",
    "#ax.set_yscale('log', basey=2)\n",
    "#plt.xticks(np.arange(0, 146, 18), rotation=45)\n",
    "#ax.xaxis.set_major_formatter(ticker.FuncFormatter(format_xticks10min))\n",
    "ax.yaxis.set_major_formatter(ticker.FuncFormatter(format_ytickslog))\n",
    "plt.xlabel(\"Time of day\", fontsize=16)\n",
    "plt.ylabel(\"Read \", fontsize=16)\n",
    "\n"
   ]
  },
  {
   "cell_type": "code",
   "execution_count": 193,
   "metadata": {},
   "outputs": [
    {
     "data": {
      "text/plain": [
       "([<matplotlib.axis.XTick at 0x7f821f8b5e80>,\n",
       "  <matplotlib.axis.XTick at 0x7f82250b6cc0>,\n",
       "  <matplotlib.axis.XTick at 0x7f8205bd7908>,\n",
       "  <matplotlib.axis.XTick at 0x7f826c098a90>,\n",
       "  <matplotlib.axis.XTick at 0x7f826c098588>,\n",
       "  <matplotlib.axis.XTick at 0x7f82239ae668>,\n",
       "  <matplotlib.axis.XTick at 0x7f82239ae0b8>,\n",
       "  <matplotlib.axis.XTick at 0x7f8213a77080>],\n",
       " <a list of 8 Text xticklabel objects>)"
      ]
     },
     "execution_count": 193,
     "metadata": {},
     "output_type": "execute_result"
    },
    {
     "data": {
      "image/png": "[encoded data removed]",
      "text/plain": [
       "<Figure size 1080x1080 with 3 Axes>"
      ]
     },
     "metadata": {
      "needs_background": "light"
     },
     "output_type": "display_data"
    }
   ],
   "source": [
    "dfg = df.groupby('submit_ts').agg({'HDFS_OUTPUT_SIZE': 'sum', 'HDFS_INPUT_SIZE': 'sum'}).reset_index()\n",
    "dfg.columns = ['submitts', 'written', 'read']\n",
    "\n",
    "\n",
    "colors = ['#80b1d3', '#b3de69', '#fdb462', '#fc8d62', '#e41a1c','#252525']\n",
    "fig, (ax, ax2, ax3) = plt.subplots(3, 1, sharex=True, gridspec_kw={'height_ratios': [3, 5, 5]}, figsize=(15,15))\n",
    "\n",
    "dfg.plot.scatter(x='submitts', y='read', ax=ax, color='blue')\n",
    "dfg.plot.scatter(x='submitts', y='read', ax=ax2, color='green')\n",
    "dfg.plot.scatter(x='submitts', y='read', ax=ax3, color='red')\n",
    "\n",
    "ax.set_ylim((1<<40), dfg['read'].max())\n",
    "ax.set_yscale('log', basey=2)\n",
    "ax.yaxis.set_major_formatter(ticker.FuncFormatter(format_ytickslog))\n",
    "ax.spines['bottom'].set_visible(False)\n",
    "#ax.xaxis.tick_bottom()\n",
    "ax.tick_params(which='both', bottom=False)\n",
    "\n",
    "ax2.set_ylim((1<<30), (1<<40)-1)\n",
    "ax2.set_yscale('log', basey=2)\n",
    "ax2.yaxis.set_major_formatter(ticker.FuncFormatter(format_ytickslog))\n",
    "ax2.spines['top'].set_visible(False)\n",
    "ax2.spines['bottom'].set_visible(False)\n",
    "ax2.tick_params(which='both', bottom=False)\n",
    "\n",
    "ax3.set_ylim(0, (1<<30)-1)\n",
    "ax3.set_yticks(np.arange(0, (1<<30), (1<<27)))\n",
    "ax3.yaxis.set_major_formatter(ticker.FuncFormatter(format_ytickslog))\n",
    "ax3.spines['top'].set_visible(False)\n",
    "\n",
    "d = .015 \n",
    "kwargs = dict(transform=ax.transAxes, color='k', clip_on=False)\n",
    "ax.plot((1-d,1+d), (-d,+d), **kwargs)\n",
    "ax.plot((1-d,1+d),(1-d,1+d), **kwargs)\n",
    "\n",
    "kwargs.update(transform=ax2.transAxes)  # switch to the bottom axes\n",
    "ax2.plot((-d,+d), (1-d,1+d), **kwargs)\n",
    "ax2.plot((-d,+d), (-d,+d), **kwargs)\n",
    "\n",
    "kwargs.update(transform=ax3.transAxes)  # switch to the bottom axes\n",
    "ax3.plot((-d,+d), (1-d,1+d), **kwargs)\n",
    "ax3.plot((-d,+d), (-d,+d), **kwargs)\n",
    "\n",
    "\n",
    "#dfg.plot.scatter(x='submitts', y='written', ax=ax, color='green')\n",
    "\n",
    "#ax.set_yscale('log', basey=2)\n",
    "plt.xlim(0,dfg['submitts'].max()+10)\n",
    "plt.xticks(np.arange(0, dfg['submitts'].max(), 10800), rotation=45)\n",
    "#ax.xaxis.set_major_formatter(ticker.FuncFormatter(format_xticks10min))\n",
    "\n",
    "#plt.xlabel(\"Time of day\", fontsize=16)\n",
    "#plt.ylabel(\"Read \", fontsize=16)\n"
   ]
  },
  {
   "cell_type": "code",
   "execution_count": 153,
   "metadata": {},
   "outputs": [
    {
     "data": {
      "text/plain": [
       "36"
      ]
     },
     "execution_count": 153,
     "metadata": {},
     "output_type": "execute_result"
    }
   ],
   "source": [
    "(39950413013211 >> 40)"
   ]
  },
  {
   "cell_type": "markdown",
   "metadata": {},
   "source": [
    "1. How much time is used by jobs with large intermediate data?\n",
    "2. Does small jobs waits for the large jobs to finish?\n",
    "3. Do we have local HDFS on this cluster?\n",
    "4. What is the age of each dataset when it is first accessed?\n",
    "5. "
   ]
  },
  {
   "cell_type": "code",
   "execution_count": 200,
   "metadata": {},
   "outputs": [
    {
     "data": {
      "text/plain": [
       "28"
      ]
     },
     "execution_count": 200,
     "metadata": {},
     "output_type": "execute_result"
    }
   ],
   "source": [
    "df[df['HDFS_INPUT_SIZE'] > (1<<40)]['runTime'].sum()//(3600*1000)"
   ]
  },
  {
   "cell_type": "code",
   "execution_count": 196,
   "metadata": {},
   "outputs": [
    {
     "data": {
      "text/plain": [
       "3"
      ]
     },
     "execution_count": 196,
     "metadata": {},
     "output_type": "execute_result"
    }
   ],
   "source": [
    "len(df[df['HDFS_OUTPUT_SIZE'] > (1<<40)])"
   ]
  },
  {
   "cell_type": "code",
   "execution_count": null,
   "metadata": {},
   "outputs": [],
   "source": []
  }
 ],
 "metadata": {
  "kernelspec": {
   "display_name": "Python 3",
   "language": "python",
   "name": "python3"
  },
  "language_info": {
   "codemirror_mode": {
    "name": "ipython",
    "version": 3
   },
   "file_extension": ".py",
   "mimetype": "text/x-python",
   "name": "python",
   "nbconvert_exporter": "python",
   "pygments_lexer": "ipython3",
   "version": "3.6.9"
  }
 },
 "nbformat": 4,
 "nbformat_minor": 2
}
