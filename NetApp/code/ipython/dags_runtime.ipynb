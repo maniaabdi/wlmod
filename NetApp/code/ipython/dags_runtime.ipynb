{
 "cells": [
  {
   "cell_type": "code",
   "execution_count": 1,
   "metadata": {},
   "outputs": [],
   "source": [
    "import matplotlib\n",
    "from matplotlib import rc\n",
    "rc('text',usetex=True)\n",
    "rc('text.latex', preamble=r'\\usepackage{color}')\n",
    "\n",
    "\n",
    "import matplotlib.pyplot as plt\n",
    "import matplotlib.ticker as ticker\n",
    "\n",
    "import pandas as pd\n",
    "import numpy as np\n",
    "import math\n",
    "\n",
    "import json\n",
    "from os import listdir\n",
    "from os.path import isfile, join\n",
    "import sys\n",
    "import glob\n",
    "import graph_tool.all as gt\n",
    "from datetime import datetime, date, time\n",
    "\n",
    "\n",
    "statistics_dir = '/home/maniaa/ashes/code/statistics/'\n",
    "stat_csv = [(statistics_dir + f) for f in listdir(statistics_dir) if (f.endswith(\".csv\") and isfile(join(statistics_dir, f)))]\n",
    "stat_csv.sort()\n",
    "stat_csv = stat_csv[1:]"
   ]
  },
  {
   "cell_type": "code",
   "execution_count": 27,
   "metadata": {},
   "outputs": [
    {
     "name": "stdout",
     "output_type": "stream",
     "text": [
      "/home/maniaa/ashes/code/statistics/08-02-2018.csv\n",
      "                                             workflow.id     submitTime  \\\n",
      "0      hive_anki_20180802080808_85b26ede-f569-4b50-bc...  1533222507736   \n",
      "1      hive_asonali_20180802094444_a6c071f5-edc6-436f...  1533228250860   \n",
      "2      hive_asupdl_20180801235757_63c2bb14-0cf7-41e9-...  1533193219274   \n",
      "3      hive_asupdl_20180802000101_3d0fcf82-0706-4577-...  1533193343318   \n",
      "4      hive_asupdl_20180802000101_ae11770e-fa7a-4886-...  1533193315951   \n",
      "...                                                  ...            ...   \n",
      "11885  hive_wilp_20180802190000_ad02eb83-e4b9-4710-97...  1533261626900   \n",
      "11886  hive_wilp_20180802200000_22a7628c-4e8a-4357-bd...  1533265222169   \n",
      "11887  hive_wilp_20180802210000_771ef235-acec-4adc-92...  1533268817026   \n",
      "11888  hive_wilp_20180802220000_e08c78a8-965d-4ba6-ac...  1533272417675   \n",
      "11889  hive_wilp_20180802230000_c67af006-c306-4098-b4...  1533276015709   \n",
      "\n",
      "          finishTime  dag_nv  submit_1min  runTime  \n",
      "0      1533222603633       4        489.0   95.897  \n",
      "1      1533228640987       9        584.0  390.127  \n",
      "2      1533193234972       4          0.0   15.698  \n",
      "3      1533193360077       4          2.0   16.759  \n",
      "4      1533193330711       4          1.0   14.760  \n",
      "...              ...     ...          ...      ...  \n",
      "11885  1533261684671       2       1140.0   57.771  \n",
      "11886  1533265244908       2       1200.0   22.739  \n",
      "11887  1533268830127       2       1260.0   13.101  \n",
      "11888  1533272431091       2       1320.0   13.416  \n",
      "11889  1533276036429       2       1380.0   20.720  \n",
      "\n",
      "[11890 rows x 6 columns]\n"
     ]
    }
   ],
   "source": [
    "def build_graph(data):\n",
    "    gstr = data['workflow.dag']\n",
    "    wrk_edges = [e.split('>') for e in gstr.split(',')]\n",
    "    lbl_vid = {}\n",
    "    graph = {'nodes': {}, 'edges': []}\n",
    "    g = gt.Graph(directed=True)\n",
    "    v_lbl = g.new_vertex_property(\"int\")\n",
    "    for e in wrk_edges:\n",
    "        srclbl = int(e[0].split('-')[1])\n",
    "        if srclbl not in lbl_vid:\n",
    "            vsrc = g.add_vertex()\n",
    "            v_lbl[vsrc] = srclbl\n",
    "            lbl_vid[srclbl] = int(vsrc)\n",
    "            \n",
    "        if len(e) > 1:\n",
    "            trgtlbl = int(e[1].split('-')[1])\n",
    "            if trgtlbl not in lbl_vid:\n",
    "                vtgt = g.add_vertex()\n",
    "                v_lbl[vtgt] = trgtlbl\n",
    "                lbl_vid[trgtlbl] = int(vtgt)\n",
    "            g.add_edge(lbl_vid[srclbl], lbl_vid[trgtlbl])\n",
    "   \n",
    "    g.vertex_properties['label'] = v_lbl\n",
    "    data['dag_nv'] = g.num_vertices()\n",
    "    data['dag_ne'] = g.num_edges()\n",
    "    return data\n",
    "\n",
    "\n",
    "for index, f in enumerate(stat_csv):\n",
    "    print(f) # 6Am of each day\n",
    "    month, day, year = f.split('/')[-1].split('.csv')[0].split('-')\n",
    "    trace_starttime = datetime.combine(date(int(year), int(month), int(day)), time(7, 0))\n",
    "    \n",
    "    df = pd.read_csv(f)\n",
    "    df = df[df['submitTime']/1000 > datetime.timestamp(trace_starttime)]\n",
    "    df = df[df['state'] == 'SUCCEEDED']\n",
    "    df['submit_ts'] = df['submitTime']//1000 - datetime.timestamp(trace_starttime);\n",
    "    df['submit_1min'] = df['submit_ts']//(60); \n",
    "    df.sort_values('submit_ts', inplace=True)\n",
    "    df.reset_index(inplace=True)\n",
    "    df = df.apply(build_graph, axis=1)\n",
    "    \n",
    "     \n",
    "    dt = df.groupby('workflow.id').agg({'submitTime': 'min', 'finishTime': 'max', \n",
    "                                        'dag_nv': 'max', 'submit_1min': 'max'})\n",
    "    dt['runTime'] = (dt['finishTime'] - dt['submitTime'])/1000\n",
    "    dt.reset_index(inplace=True)\n",
    "    print(dt)\n",
    "    \n",
    "    break"
   ]
  },
  {
   "cell_type": "code",
   "execution_count": 49,
   "metadata": {},
   "outputs": [
    {
     "data": {
      "text/plain": [
       "(37284.66, 10.436, 731.3795480427048, 281)"
      ]
     },
     "execution_count": 49,
     "metadata": {},
     "output_type": "execute_result"
    }
   ],
   "source": [
    "dc = dt[dt['dag_nv'] >= 5]['runTime']\n",
    "dc.max(), dc.min(), dc.mean(), dc.size"
   ]
  },
  {
   "cell_type": "code",
   "execution_count": 44,
   "metadata": {},
   "outputs": [
    {
     "data": {
      "text/plain": [
       "(23033.59, 6.063, 339.4118933823529)"
      ]
     },
     "execution_count": 44,
     "metadata": {},
     "output_type": "execute_result"
    }
   ],
   "source": [
    "dc2 = df[df['dag_nv'] >= 5]['runTime']/1000\n",
    "dc2.max(), dc2.min(), dc2.mean()"
   ]
  },
  {
   "cell_type": "code",
   "execution_count": 46,
   "metadata": {},
   "outputs": [
    {
     "data": {
      "text/plain": [
       "6.398055555555556"
      ]
     },
     "execution_count": 46,
     "metadata": {},
     "output_type": "execute_result"
    }
   ],
   "source": [
    "23033/3600"
   ]
  },
  {
   "cell_type": "code",
   "execution_count": null,
   "metadata": {},
   "outputs": [],
   "source": []
  }
 ],
 "metadata": {
  "kernelspec": {
   "display_name": "Python 3",
   "language": "python",
   "name": "python3"
  },
  "language_info": {
   "codemirror_mode": {
    "name": "ipython",
    "version": 3
   },
   "file_extension": ".py",
   "mimetype": "text/x-python",
   "name": "python",
   "nbconvert_exporter": "python",
   "pygments_lexer": "ipython3",
   "version": "3.6.9"
  }
 },
 "nbformat": 4,
 "nbformat_minor": 2
}
