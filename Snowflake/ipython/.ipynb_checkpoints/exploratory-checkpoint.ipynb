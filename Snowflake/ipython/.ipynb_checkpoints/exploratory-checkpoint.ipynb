{
 "cells": [
  {
   "cell_type": "code",
   "execution_count": 9,
   "metadata": {},
   "outputs": [],
   "source": [
    "import pandas as pd\n",
    "import numpy as np\n",
    "dataset_path = '/local0/wlmod/Snowflake/data/snowset-main.csv'"
   ]
  },
  {
   "cell_type": "code",
   "execution_count": 14,
   "metadata": {},
   "outputs": [
    {
     "data": {
      "text/plain": [
       "0     1520001842768000000\n",
       "1     1520002830178000000\n",
       "2     1519996442842000000\n",
       "3     1519996235889000000\n",
       "4     1520002815694000000\n",
       "5     1520002811461000000\n",
       "6     1520001850148000000\n",
       "7     1520001893115000000\n",
       "8     1520001884786000000\n",
       "9     1519996499100000000\n",
       "10    1520002920899000000\n",
       "11    1519996491691000000\n",
       "12    1519998077488000000\n",
       "13    1520002931220000000\n",
       "14    1520002014391000000\n",
       "15    1520001952917000000\n",
       "16    1519997626254000000\n",
       "17    1519996231948000000\n",
       "18    1520002446869000000\n",
       "19    1519996968415000000\n",
       "Name: createdTimeTs, dtype: int64"
      ]
     },
     "execution_count": 14,
     "metadata": {},
     "output_type": "execute_result"
    }
   ],
   "source": [
    "df = pd.read_csv(dataset_path, nrows=20)\n",
    "df['createdTimeTs'] = pd.to_datetime(df['createdTime']).astype(int) \n",
    "df['createdTimeTs']\n"
   ]
  },
  {
   "cell_type": "code",
   "execution_count": 18,
   "metadata": {},
   "outputs": [
    {
     "data": {
      "text/plain": [
       "1520010000.0"
      ]
     },
     "execution_count": 18,
     "metadata": {},
     "output_type": "execute_result"
    }
   ],
   "source": [
    "from datetime import datetime\n",
    "time_origin = datetime.strptime('2018-03-02 12:00:00.000', '%Y-%m-%d %H:%M:%S.fff')\n",
    "time_origin.timestamp()"
   ]
  },
  {
   "cell_type": "code",
   "execution_count": null,
   "metadata": {},
   "outputs": [],
   "source": []
  }
 ],
 "metadata": {
  "kernelspec": {
   "display_name": "Python 3",
   "language": "python",
   "name": "python3"
  },
  "language_info": {
   "codemirror_mode": {
    "name": "ipython",
    "version": 3
   },
   "file_extension": ".py",
   "mimetype": "text/x-python",
   "name": "python",
   "nbconvert_exporter": "python",
   "pygments_lexer": "ipython3",
   "version": "3.6.9"
  }
 },
 "nbformat": 4,
 "nbformat_minor": 2
}
