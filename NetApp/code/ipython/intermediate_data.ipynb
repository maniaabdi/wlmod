{
 "cells": [
  {
   "cell_type": "code",
   "execution_count": 168,
   "metadata": {},
   "outputs": [],
   "source": [
    "import pandas as pd\n",
    "import json\n",
    "import os\n",
    "import sys\n",
    "import glob\n",
    "import graph_tool.all as gt\n",
    "from datetime import datetime, date, time\n",
    "import matplotlib.ticker as ticker\n",
    "import matplotlib.pyplot as plt\n",
    "from os import listdir\n",
    "from os.path import isfile, join\n",
    "import numpy as np\n",
    "import math\n",
    "\n",
    "statistics_dir = '/home/maniaa/ashes/code/statistics/'\n",
    "stat_csv = [(statistics_dir + f) for f in listdir(statistics_dir) if (f.endswith(\".csv\") and isfile(join(statistics_dir, f)))]\n",
    "stat_csv.sort()\n",
    "stat_csv = stat_csv[1:]"
   ]
  },
  {
   "cell_type": "code",
   "execution_count": 169,
   "metadata": {},
   "outputs": [
    {
     "name": "stdout",
     "output_type": "stream",
     "text": [
      "/home/maniaa/ashes/code/statistics/08-02-2018.csv\n"
     ]
    }
   ],
   "source": [
    "for index, f in enumerate(stat_csv):\n",
    "    # 6Am of each day\n",
    "    print(f)\n",
    "    month, day, year = f.split('/')[-1].split('.csv')[0].split('-')\n",
    "    trace_starttime = datetime.combine(date(int(year), int(month), int(day)), time(7, 0))\n",
    "    \n",
    "    df = pd.read_csv(f)\n",
    "    df = df[df['submitTime']/1000 > datetime.timestamp(trace_starttime)]\n",
    "    \n",
    "    df['submit_ts'] = df['submitTime']//1000 - datetime.timestamp(trace_starttime);\n",
    "    df.sort_values('submit_ts', inplace=True)\n",
    "    df.reset_index(inplace=True)\n",
    "    \n",
    "    break"
   ]
  },
  {
   "cell_type": "code",
   "execution_count": 170,
   "metadata": {},
   "outputs": [
    {
     "name": "stdout",
     "output_type": "stream",
     "text": [
      "Index(['index', 'state', 'submitTime', 'startTime', 'finishTime', 'queueTime',\n",
      "       'runTime', 'NumMaps', 'avgMapTime', 'avgReduceTime', 'avgShuffleTime',\n",
      "       'avgMergeTime', 'NumReduce', 'HDFS_INPUT_SIZE', 'HDFS_OUTPUT_SIZE',\n",
      "       'MAP_CPU_USAGE_MSEC', 'REDUCE_CPU_USAGE_MSEC', 'MAP_MEM_USAGE_B',\n",
      "       'REDUCE_MEM_USAGE_B', 'HIVE_RECORDS_IN', 'HIVE_RECORDS_OUT',\n",
      "       'HIVE_RECORDS_INTERMEDIATE', 'SLOTS_MILLIS_MAPS',\n",
      "       'SLOTS_MILLIS_REDUCES', 'TOTAL_LAUNCHED_MAPS', 'TOTAL_LAUNCHED_REDUCES',\n",
      "       'DATA_LOCAL_MAPS', 'RACK_LOCAL_MAPS', 'MILLIS_MAPS', 'MILLIS_REDUCES',\n",
      "       'VCORES_MILLIS_MAPS', 'VCORES_MILLIS_REDUCES', 'MB_MILLIS_MAPS',\n",
      "       'MB_MILLIS_REDUCES', 'PHMAP_MEM_USAGE_B', 'PHREDUCE_MEM_USAGE_B',\n",
      "       'PHPHYSICAL_MEMORY_B', 'jobid', 'job.maps', 'query', 'outputdir',\n",
      "       'scratchdir', 'sessionid', 'query.id', 'local.scratchdir', 'tmpouput',\n",
      "       'user.name', 'job', 'n_inputs', 'inputdir', 'workflow.node',\n",
      "       'workflow.id', 'workflow.dag', 'table.name', 'submit_ts'],\n",
      "      dtype='object')\n"
     ]
    }
   ],
   "source": [
    "print(df.columns)"
   ]
  },
  {
   "cell_type": "code",
   "execution_count": null,
   "metadata": {},
   "outputs": [],
   "source": []
  },
  {
   "cell_type": "code",
   "execution_count": 177,
   "metadata": {
    "scrolled": true
   },
   "outputs": [],
   "source": [
    "metadata = {}\n",
    "\n",
    "def chop(string):\n",
    "    return string.split('hdfs://datalake-nnha/', 1)[1].rsplit('-', 1)[0]\n",
    "\n",
    "def p(data):\n",
    "    global metadata\n",
    "    o_obj = chop(data['tmpouput'])\n",
    "    iobjs = [chop(f) for f in data['inputdir'].split(',')]\n",
    "    for i_obj in iobjs:\n",
    "        if i_obj == o_obj:\n",
    "            o_obj = o_obj.split('.hive')[0]+data['table.name'].rsplit('.')[1]\n",
    "        \n",
    "        if i_obj not in metadata:\n",
    "            metadata[i_obj] = {'id': len(metadata), 'size': data['HDFS_INPUT_SIZE']//data['n_inputs'], \n",
    "                               'reuse': 0, 'name': i_obj, 'approximate': 1}\n",
    "        metadata[i_obj]['reuse'] += 1;\n",
    "        f.write(str(int(data['submit_ts'])) + ','+ str(metadata[i_obj]['id']) + ','+ str(metadata[i_obj]['size']) + ',r\\n')\n",
    "        \n",
    "    if o_obj not in metadata:\n",
    "        metadata[o_obj] = {'id': len(metadata), 'size': data['HDFS_OUTPUT_SIZE'], 'reuse': 0, \n",
    "                           'name': o_obj, 'approximate': 0}\n",
    "    metadata[o_obj]['reuse'] += 1;\n",
    "    metadata[o_obj]['size'] = data['HDFS_OUTPUT_SIZE'];\n",
    "    data['outputdir'] = o_obj\n",
    "    f.write(str(int(data['submit_ts'])) + ','+ str(metadata[o_obj]['id']) + ',' + str(metadata[o_obj]['size']) + ',w\\n')\n",
    "    \n",
    "#d = df[df['user.name'] == 'kavithad'].sort_values('submitTime').apply(p, axis=1)\n",
    "\n",
    "f = open(\"/home/maniaa/ashes/code/replay_trace.tr\", \"w\")\n",
    "d = df.sort_values('submitTime').apply(p, axis=1)\n",
    "f.close()"
   ]
  },
  {
   "cell_type": "code",
   "execution_count": 204,
   "metadata": {},
   "outputs": [
    {
     "data": {
      "text/html": [
       "<div>\n",
       "<style scoped>\n",
       "    .dataframe tbody tr th:only-of-type {\n",
       "        vertical-align: middle;\n",
       "    }\n",
       "\n",
       "    .dataframe tbody tr th {\n",
       "        vertical-align: top;\n",
       "    }\n",
       "\n",
       "    .dataframe thead th {\n",
       "        text-align: right;\n",
       "    }\n",
       "</style>\n",
       "<table border=\"1\" class=\"dataframe\">\n",
       "  <thead>\n",
       "    <tr style=\"text-align: right;\">\n",
       "      <th></th>\n",
       "      <th>id</th>\n",
       "      <th>size</th>\n",
       "      <th>reuse</th>\n",
       "      <th>name</th>\n",
       "      <th>approximate</th>\n",
       "    </tr>\n",
       "  </thead>\n",
       "  <tbody>\n",
       "    <tr>\n",
       "      <th>4402</th>\n",
       "      <td>4402</td>\n",
       "      <td>116136815</td>\n",
       "      <td>40300</td>\n",
       "      <td>hive_external_tables/EMS/2018-05</td>\n",
       "      <td>1</td>\n",
       "    </tr>\n",
       "    <tr>\n",
       "      <th>4403</th>\n",
       "      <td>4403</td>\n",
       "      <td>116136815</td>\n",
       "      <td>38600</td>\n",
       "      <td>hive_external_tables/EMS/2018-06</td>\n",
       "      <td>1</td>\n",
       "    </tr>\n",
       "    <tr>\n",
       "      <th>4404</th>\n",
       "      <td>4404</td>\n",
       "      <td>116136815</td>\n",
       "      <td>71536</td>\n",
       "      <td>hive_external_tables/EMS/2018-07</td>\n",
       "      <td>1</td>\n",
       "    </tr>\n",
       "    <tr>\n",
       "      <th>17349</th>\n",
       "      <td>17349</td>\n",
       "      <td>142218730</td>\n",
       "      <td>4198</td>\n",
       "      <td>hive_external_tables/EMS/2018-04</td>\n",
       "      <td>1</td>\n",
       "    </tr>\n",
       "    <tr>\n",
       "      <th>37881</th>\n",
       "      <td>37881</td>\n",
       "      <td>130705113</td>\n",
       "      <td>300</td>\n",
       "      <td>hive_external_tables/EMS/2018-08</td>\n",
       "      <td>1</td>\n",
       "    </tr>\n",
       "    <tr>\n",
       "      <th>38507</th>\n",
       "      <td>38507</td>\n",
       "      <td>145321612</td>\n",
       "      <td>3100</td>\n",
       "      <td>hive_external_tables/EMS/2018-03</td>\n",
       "      <td>1</td>\n",
       "    </tr>\n",
       "  </tbody>\n",
       "</table>\n",
       "</div>"
      ],
      "text/plain": [
       "          id       size  reuse                              name  approximate\n",
       "4402    4402  116136815  40300  hive_external_tables/EMS/2018-05            1\n",
       "4403    4403  116136815  38600  hive_external_tables/EMS/2018-06            1\n",
       "4404    4404  116136815  71536  hive_external_tables/EMS/2018-07            1\n",
       "17349  17349  142218730   4198  hive_external_tables/EMS/2018-04            1\n",
       "37881  37881  130705113    300  hive_external_tables/EMS/2018-08            1\n",
       "38507  38507  145321612   3100  hive_external_tables/EMS/2018-03            1"
      ]
     },
     "execution_count": 204,
     "metadata": {},
     "output_type": "execute_result"
    }
   ],
   "source": [
    "pd.set_option(\"display.max_colwidth\", 100)\n",
    "pd.set_option(\"display.max_rows\", 40)\n",
    "metadata_df = pd.DataFrame(data=metadata.values())\n",
    "metadata_df[metadata_df['name'].str.contains('hive_external_tables/EMS/')]"
   ]
  },
  {
   "cell_type": "code",
   "execution_count": 205,
   "metadata": {},
   "outputs": [
    {
     "data": {
      "text/plain": [
       "<matplotlib.axes._subplots.AxesSubplot at 0x7f8c4d39c5c0>"
      ]
     },
     "execution_count": 205,
     "metadata": {},
     "output_type": "execute_result"
    },
    {
     "data": {
      "image/png": "[encoded data removed]",
      "text/plain": [
       "<Figure size 432x288 with 1 Axes>"
      ]
     },
     "metadata": {
      "needs_background": "light"
     },
     "output_type": "display_data"
    }
   ],
   "source": [
    "metadata_df = metadata_df.sort_values('reuse', ascending=False).reset_index(drop=True)\n"
   ]
  },
  {
   "cell_type": "code",
   "execution_count": 207,
   "metadata": {},
   "outputs": [
    {
     "data": {
      "text/html": [
       "<div>\n",
       "<style scoped>\n",
       "    .dataframe tbody tr th:only-of-type {\n",
       "        vertical-align: middle;\n",
       "    }\n",
       "\n",
       "    .dataframe tbody tr th {\n",
       "        vertical-align: top;\n",
       "    }\n",
       "\n",
       "    .dataframe thead th {\n",
       "        text-align: right;\n",
       "    }\n",
       "</style>\n",
       "<table border=\"1\" class=\"dataframe\">\n",
       "  <thead>\n",
       "    <tr style=\"text-align: right;\">\n",
       "      <th></th>\n",
       "      <th>index</th>\n",
       "      <th>id</th>\n",
       "      <th>size</th>\n",
       "      <th>reuse</th>\n",
       "      <th>name</th>\n",
       "      <th>approximate</th>\n",
       "    </tr>\n",
       "  </thead>\n",
       "  <tbody>\n",
       "    <tr>\n",
       "      <th>0</th>\n",
       "      <td>0</td>\n",
       "      <td>4404</td>\n",
       "      <td>116136815</td>\n",
       "      <td>71536</td>\n",
       "      <td>hive_external_tables/EMS/2018-07</td>\n",
       "      <td>1</td>\n",
       "    </tr>\n",
       "    <tr>\n",
       "      <th>1</th>\n",
       "      <td>1</td>\n",
       "      <td>4402</td>\n",
       "      <td>116136815</td>\n",
       "      <td>40300</td>\n",
       "      <td>hive_external_tables/EMS/2018-05</td>\n",
       "      <td>1</td>\n",
       "    </tr>\n",
       "    <tr>\n",
       "      <th>2</th>\n",
       "      <td>2</td>\n",
       "      <td>5961</td>\n",
       "      <td>7508260764</td>\n",
       "      <td>40027</td>\n",
       "      <td>hive_external_tables/CM/2018-07</td>\n",
       "      <td>1</td>\n",
       "    </tr>\n",
       "    <tr>\n",
       "      <th>3</th>\n",
       "      <td>3</td>\n",
       "      <td>4403</td>\n",
       "      <td>116136815</td>\n",
       "      <td>38600</td>\n",
       "      <td>hive_external_tables/EMS/2018-06</td>\n",
       "      <td>1</td>\n",
       "    </tr>\n",
       "    <tr>\n",
       "      <th>4</th>\n",
       "      <td>4</td>\n",
       "      <td>26777</td>\n",
       "      <td>0</td>\n",
       "      <td>16500</td>\n",
       "      <td>hive_external_tables/CM/2017-08</td>\n",
       "      <td>1</td>\n",
       "    </tr>\n",
       "    <tr>\n",
       "      <th>...</th>\n",
       "      <td>...</td>\n",
       "      <td>...</td>\n",
       "      <td>...</td>\n",
       "      <td>...</td>\n",
       "      <td>...</td>\n",
       "      <td>...</td>\n",
       "    </tr>\n",
       "    <tr>\n",
       "      <th>44960</th>\n",
       "      <td>22597</td>\n",
       "      <td>42322</td>\n",
       "      <td>7</td>\n",
       "      <td>1</td>\n",
       "      <td>tmp/hive/saia/4b48f166-e429-456d-a677-a39e20144d40/hive_2018-08-02_21-02-26_335_3072865699720086...</td>\n",
       "      <td>0</td>\n",
       "    </tr>\n",
       "    <tr>\n",
       "      <th>44961</th>\n",
       "      <td>22596</td>\n",
       "      <td>42323</td>\n",
       "      <td>7210</td>\n",
       "      <td>1</td>\n",
       "      <td>tmp/hive/gkasha/ef36d240-328d-484b-a15b-cf39e41d334c/hive_2018-08-02_21-00-52_819_90966794615769...</td>\n",
       "      <td>1</td>\n",
       "    </tr>\n",
       "    <tr>\n",
       "      <th>44962</th>\n",
       "      <td>22595</td>\n",
       "      <td>42324</td>\n",
       "      <td>52</td>\n",
       "      <td>1</td>\n",
       "      <td>hive_external_tables/Users_db/guestdb/ubs_shelf_asups_sd/.hive-staging_hive_2018-08-02_21-00-52_...</td>\n",
       "      <td>0</td>\n",
       "    </tr>\n",
       "    <tr>\n",
       "      <th>44963</th>\n",
       "      <td>22594</td>\n",
       "      <td>42325</td>\n",
       "      <td>11753</td>\n",
       "      <td>1</td>\n",
       "      <td>tmp/hive/netappiq/11ce9432-5e19-45ea-8ab0-0fb0f7fd97f7/hive_2018-08-02_21-02-34_494_129808085763...</td>\n",
       "      <td>1</td>\n",
       "    </tr>\n",
       "    <tr>\n",
       "      <th>44964</th>\n",
       "      <td>44964</td>\n",
       "      <td>44964</td>\n",
       "      <td>52</td>\n",
       "      <td>1</td>\n",
       "      <td>hive_external_tables/Users_db/guestdb/ubs_shelf_asups_sd/.hive-staging_hive_2018-08-02_23-58-57_...</td>\n",
       "      <td>0</td>\n",
       "    </tr>\n",
       "  </tbody>\n",
       "</table>\n",
       "<p>44965 rows × 6 columns</p>\n",
       "</div>"
      ],
      "text/plain": [
       "       index     id        size  reuse  \\\n",
       "0          0   4404   116136815  71536   \n",
       "1          1   4402   116136815  40300   \n",
       "2          2   5961  7508260764  40027   \n",
       "3          3   4403   116136815  38600   \n",
       "4          4  26777           0  16500   \n",
       "...      ...    ...         ...    ...   \n",
       "44960  22597  42322           7      1   \n",
       "44961  22596  42323        7210      1   \n",
       "44962  22595  42324          52      1   \n",
       "44963  22594  42325       11753      1   \n",
       "44964  44964  44964          52      1   \n",
       "\n",
       "                                                                                                      name  \\\n",
       "0                                                                         hive_external_tables/EMS/2018-07   \n",
       "1                                                                         hive_external_tables/EMS/2018-05   \n",
       "2                                                                          hive_external_tables/CM/2018-07   \n",
       "3                                                                         hive_external_tables/EMS/2018-06   \n",
       "4                                                                          hive_external_tables/CM/2017-08   \n",
       "...                                                                                                    ...   \n",
       "44960  tmp/hive/saia/4b48f166-e429-456d-a677-a39e20144d40/hive_2018-08-02_21-02-26_335_3072865699720086...   \n",
       "44961  tmp/hive/gkasha/ef36d240-328d-484b-a15b-cf39e41d334c/hive_2018-08-02_21-00-52_819_90966794615769...   \n",
       "44962  hive_external_tables/Users_db/guestdb/ubs_shelf_asups_sd/.hive-staging_hive_2018-08-02_21-00-52_...   \n",
       "44963  tmp/hive/netappiq/11ce9432-5e19-45ea-8ab0-0fb0f7fd97f7/hive_2018-08-02_21-02-34_494_129808085763...   \n",
       "44964  hive_external_tables/Users_db/guestdb/ubs_shelf_asups_sd/.hive-staging_hive_2018-08-02_23-58-57_...   \n",
       "\n",
       "       approximate  \n",
       "0                1  \n",
       "1                1  \n",
       "2                1  \n",
       "3                1  \n",
       "4                1  \n",
       "...            ...  \n",
       "44960            0  \n",
       "44961            1  \n",
       "44962            0  \n",
       "44963            1  \n",
       "44964            0  \n",
       "\n",
       "[44965 rows x 6 columns]"
      ]
     },
     "execution_count": 207,
     "metadata": {},
     "output_type": "execute_result"
    }
   ],
   "source": [
    "metadata_df = metadata_df.sort_values('reuse', ascending=False).reset_index()\n",
    "metadata_df"
   ]
  },
  {
   "cell_type": "code",
   "execution_count": 210,
   "metadata": {},
   "outputs": [
    {
     "data": {
      "text/plain": [
       "<matplotlib.axes._subplots.AxesSubplot at 0x7f8c4d374b70>"
      ]
     },
     "execution_count": 210,
     "metadata": {},
     "output_type": "execute_result"
    },
    {
     "data": {
      "image/png": "[encoded data removed]",
      "text/plain": [
       "<Figure size 720x288 with 1 Axes>"
      ]
     },
     "metadata": {
      "needs_background": "light"
     },
     "output_type": "display_data"
    }
   ],
   "source": [
    "fig, ax = plt.subplots(figsize=(10,4))\n",
    "metadata_df.plot(kind='scatter', x='index', y='reuse', ax=ax)"
   ]
  },
  {
   "cell_type": "code",
   "execution_count": null,
   "metadata": {},
   "outputs": [],
   "source": []
  }
 ],
 "metadata": {
  "kernelspec": {
   "display_name": "Python 3",
   "language": "python",
   "name": "python3"
  },
  "language_info": {
   "codemirror_mode": {
    "name": "ipython",
    "version": 3
   },
   "file_extension": ".py",
   "mimetype": "text/x-python",
   "name": "python",
   "nbconvert_exporter": "python",
   "pygments_lexer": "ipython3",
   "version": "3.6.9"
  }
 },
 "nbformat": 4,
 "nbformat_minor": 2
}
