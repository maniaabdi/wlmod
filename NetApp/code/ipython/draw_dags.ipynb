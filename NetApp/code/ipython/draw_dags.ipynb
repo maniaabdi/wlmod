{
 "cells": [
  {
   "cell_type": "code",
   "execution_count": 58,
   "metadata": {},
   "outputs": [],
   "source": [
    "# build graph pool with the following structure \n",
    "# graph_pool = {'graphs': {gid: { \n",
    "#                          'nodes': {nodeid: 'label'},\n",
    "#                          'edges': [{'source': -1, 'target': -1}]}}}\n",
    "import pandas as pd\n",
    "import json\n",
    "import os\n",
    "import sys\n",
    "import glob\n",
    "import graph_tool.all as gt\n",
    "from datetime import datetime"
   ]
  },
  {
   "cell_type": "code",
   "execution_count": 103,
   "metadata": {},
   "outputs": [],
   "source": [
    "file = '/home/maniaa/ashes/code/dags.csv'\n",
    "df1 = pd.read_csv(file)\n",
    "min_ts = df['submitTime'].min()\n",
    "df1['submitTs'] = (df1['submitTime'] - min_ts)//(3600*1000)"
   ]
  },
  {
   "cell_type": "code",
   "execution_count": 108,
   "metadata": {},
   "outputs": [],
   "source": [
    "df = df1[df1['submitTs'] < 24]\n",
    "df.reset_index(inplace=True)\n",
    "\n",
    "dt = datetime.fromtimestamp((df['submitTime']//1000).values[0]).date()\n",
    "df2 = pd.read_csv('/home/maniaa/ashes/code/statistics/' + dt.strftime('%m-%d-%Y') + '.csv')"
   ]
  },
  {
   "cell_type": "code",
   "execution_count": 141,
   "metadata": {},
   "outputs": [
    {
     "name": "stdout",
     "output_type": "stream",
     "text": [
      "..............................\n",
      " hive_anki_20180802080808_85b26ede-f569-4b50-bc0e-4a1c30121066\n"
     ]
    },
    {
     "ename": "AttributeError",
     "evalue": "'function' object has no attribute 'values'",
     "output_type": "error",
     "traceback": [
      "\u001b[0;31m---------------------------------------------------------------------------\u001b[0m",
      "\u001b[0;31mAttributeError\u001b[0m                            Traceback (most recent call last)",
      "\u001b[0;32m<ipython-input-141-d7d3a9e30c2c>\u001b[0m in \u001b[0;36m<module>\u001b[0;34m\u001b[0m\n\u001b[1;32m     38\u001b[0m           \u001b[0;34m'run time'\u001b[0m\u001b[0;34m,\u001b[0m \u001b[0mcdag_jobs\u001b[0m\u001b[0;34m.\u001b[0m\u001b[0mrunTime\u001b[0m\u001b[0;34m.\u001b[0m\u001b[0mvalues\u001b[0m\u001b[0;34m,\u001b[0m \u001b[0;34m'\\n'\u001b[0m\u001b[0;34m,\u001b[0m\u001b[0;34m\u001b[0m\u001b[0;34m\u001b[0m\u001b[0m\n\u001b[1;32m     39\u001b[0m           \u001b[0;34m'# inputs'\u001b[0m\u001b[0;34m,\u001b[0m \u001b[0mcdag_jobs\u001b[0m\u001b[0;34m.\u001b[0m\u001b[0mn_inputs\u001b[0m\u001b[0;34m.\u001b[0m\u001b[0mvalues\u001b[0m\u001b[0;34m,\u001b[0m\u001b[0;34m'\\n'\u001b[0m\u001b[0;34m,\u001b[0m\u001b[0;34m\u001b[0m\u001b[0;34m\u001b[0m\u001b[0m\n\u001b[0;32m---> 40\u001b[0;31m           '# query', cdag_jobs.query.values,'\\n')\n\u001b[0m\u001b[1;32m     41\u001b[0m     \u001b[0mbuild_graph\u001b[0m\u001b[0;34m(\u001b[0m\u001b[0mrow\u001b[0m\u001b[0;34m[\u001b[0m\u001b[0;34m'dag'\u001b[0m\u001b[0;34m]\u001b[0m\u001b[0;34m)\u001b[0m\u001b[0;34m\u001b[0m\u001b[0;34m\u001b[0m\u001b[0m\n\u001b[1;32m     42\u001b[0m \u001b[0;34m\u001b[0m\u001b[0m\n",
      "\u001b[0;31mAttributeError\u001b[0m: 'function' object has no attribute 'values'"
     ]
    }
   ],
   "source": [
    "def build_graph(gstr):\n",
    "    wrk_edges = [e.split('>') for e in gstr.split(',')]\n",
    "    lbl_vid = {}\n",
    "    graph = {'nodes': {}, 'edges': []}\n",
    "    g = gt.Graph(directed=True)\n",
    "    v_lbl = g.new_vertex_property(\"int\")\n",
    "    for e in wrk_edges:\n",
    "        srclbl = int(e[0].split('-')[1])\n",
    "        if srclbl not in lbl_vid:\n",
    "            vsrc = g.add_vertex()\n",
    "            v_lbl[vsrc] = srclbl\n",
    "            lbl_vid[srclbl] = int(vsrc)\n",
    "            \n",
    "        if len(e) > 1:\n",
    "            trgtlbl = int(e[1].split('-')[1])\n",
    "            if trgtlbl not in lbl_vid:\n",
    "                vtgt = g.add_vertex()\n",
    "                v_lbl[vtgt] = trgtlbl\n",
    "                lbl_vid[trgtlbl] = int(vtgt)\n",
    "            g.add_edge(lbl_vid[srclbl], lbl_vid[trgtlbl])\n",
    "   \n",
    "    g.vertex_properties['label'] = v_lbl\n",
    "    \n",
    "    if index != -1:\n",
    "        gt.graph_draw(g, vertex_text=g.vp.label, vertex_font_size=18,\n",
    "                      output_size=(200, 200))\n",
    "    print(wrk_edges)\n",
    "    return g\n",
    "    \n",
    "for index, row in df.iterrows():\n",
    "    print('..............................\\n', row['workflow.id'])\n",
    "    dt = datetime.fromtimestamp(row['submitTime']//1000).date()\n",
    "    cdag_jobs = df2[df2['workflow.id'] == row['workflow.id']]\n",
    "    \n",
    "    print(' input sz', cdag_jobs.HDFS_INPUT_SIZE.values, '\\n', \n",
    "          'output sz', cdag_jobs.HDFS_OUTPUT_SIZE.values, '\\n', \n",
    "          'stages', cdag_jobs['workflow.node'].values, '\\n', \n",
    "          'run time', cdag_jobs.runTime.values, '\\n', \n",
    "          '# inputs', cdag_jobs.n_inputs.values,'\\n',\n",
    "          '# query', cdag_jobs..values,'\\n')\n",
    "    build_graph(row['dag'])\n",
    "    \n",
    "    if index == 20:\n",
    "        break"
   ]
  },
  {
   "cell_type": "code",
   "execution_count": 112,
   "metadata": {},
   "outputs": [
    {
     "name": "stdout",
     "output_type": "stream",
     "text": [
      "netappiq    7855\n",
      "asupdl      1827\n",
      "saia        1174\n",
      "gkasha       559\n",
      "mphani        93\n",
      "madav         73\n",
      "rameshpb      71\n",
      "anki          67\n",
      "kavithad      54\n",
      "wilp          51\n",
      "etlhive       40\n",
      "nishant2      29\n",
      "asonali       28\n",
      "romag         26\n",
      "rnaik         26\n",
      "nibu          22\n",
      "crajesh       21\n",
      "vinayn        19\n",
      "carchi        17\n",
      "boost         16\n",
      "akshatab      14\n",
      "lianghui      14\n",
      "benl          13\n",
      "chaitraj      13\n",
      "uppuluri      12\n",
      "somenath      11\n",
      "asupprod       9\n",
      "ranganat       9\n",
      "lakshmah       8\n",
      "mamtap         8\n",
      "rebeccak       7\n",
      "badrinan       7\n",
      "saieshwa       5\n",
      "shyampra       4\n",
      "swarupm        4\n",
      "patanar        3\n",
      "shalinip       3\n",
      "andrewv        2\n",
      "hive           2\n",
      "kumarswr       2\n",
      "root           1\n",
      "vindhyas       1\n",
      "shubhvar       1\n",
      "Name: user.name, dtype: int64\n"
     ]
    }
   ],
   "source": [
    "print(df2['user.name'].value_counts())"
   ]
  },
  {
   "cell_type": "code",
   "execution_count": 125,
   "metadata": {},
   "outputs": [
    {
     "name": "stdout",
     "output_type": "stream",
     "text": [
      "Output size 30363437666.74318 1646935469021 2\n",
      "Input size 1103362651885.2751 39950413013211 11626\n",
      "Runtime 218982.36308206597 7882698 8718\n",
      "       n_inputs  HDFS_INPUT_SIZE  HDFS_OUTPUT_SIZE  runTime\n",
      "1             1         19695698                17    24131\n",
      "2             1         19695698                17    21597\n",
      "3             1         19695698                17    25634\n",
      "6             1         43231231                17    15160\n",
      "7             1         19695698                17    26722\n",
      "...         ...              ...               ...      ...\n",
      "12212         1            11647                 2    19636\n",
      "12214         1         74981601                17    19772\n",
      "12216         1         74981596                17    20984\n",
      "12218         1         56802507                17    18629\n",
      "12220         1         19695698                17    14118\n",
      "\n",
      "[7855 rows x 4 columns]\n",
      "17               6942\n",
      "3                 454\n",
      "2                 332\n",
      "11                  6\n",
      "16079445341         2\n",
      "1427794001          2\n",
      "17080166535         2\n",
      "17080566577         2\n",
      "47824116            2\n",
      "42514530672         2\n",
      "1077555843          2\n",
      "11152688            2\n",
      "46465834116         2\n",
      "2103127             2\n",
      "108874424           1\n",
      "7537233             1\n",
      "42525543168         1\n",
      "8946481             1\n",
      "518670500617        1\n",
      "5425988             1\n",
      "2000864269          1\n",
      "422333524           1\n",
      "562199              1\n",
      "24572979            1\n",
      "3663384831          1\n",
      "15623554145         1\n",
      "8096789627          1\n",
      "164848777           1\n",
      "9215150             1\n",
      "2352305             1\n",
      "412642556           1\n",
      "17901113            1\n",
      "1631817             1\n",
      "77228456            1\n",
      "3811183             1\n",
      "50104532            1\n",
      "12058693            1\n",
      "2015916082          1\n",
      "6661230706          1\n",
      "2398331             1\n",
      "47052224739         1\n",
      "22872312            1\n",
      "314626916648        1\n",
      "14172823884         1\n",
      "127334197617        1\n",
      "7727629             1\n",
      "42844844            1\n",
      "25254739            1\n",
      "1646935469021       1\n",
      "44870537            1\n",
      "87528504255         1\n",
      "23438356            1\n",
      "10038309            1\n",
      "314626917496        1\n",
      "3556464             1\n",
      "422333565           1\n",
      "6128832             1\n",
      "118780323384        1\n",
      "4769078863          1\n",
      "59875038            1\n",
      "68329399            1\n",
      "1083602887          1\n",
      "3860269             1\n",
      "40420722            1\n",
      "10038743            1\n",
      "500430324           1\n",
      "88790652            1\n",
      "174812819           1\n",
      "515885              1\n",
      "6053841             1\n",
      "2226136             1\n",
      "126963400735        1\n",
      "12058811            1\n",
      "29386970            1\n",
      "82235               1\n",
      "607766061543        1\n",
      "11616695            1\n",
      "15841736            1\n",
      "607766061603        1\n",
      "14710696802         1\n",
      "518670656395        1\n",
      "140581925829        1\n",
      "14710692856         1\n",
      "491646026           1\n",
      "395652533638        1\n",
      "500430405           1\n",
      "8076968             1\n",
      "6053293             1\n",
      "5985416             1\n",
      "624537              1\n",
      "7435396             1\n",
      "2197204912          1\n",
      "1646935457356       1\n",
      "491659226           1\n",
      "11374592            1\n",
      "10                  1\n",
      "103165984           1\n",
      "47051847725         1\n",
      "59752634            1\n",
      "22069051638         1\n",
      "6322437             1\n",
      "318283876731        1\n",
      "170262886           1\n",
      "82354               1\n",
      "4135397             1\n",
      "3265272             1\n",
      "3930921             1\n",
      "157016934           1\n",
      "386042739           1\n",
      "3840889             1\n",
      "1083589598          1\n",
      "22068954194         1\n",
      "65033324            1\n",
      "1996813440          1\n",
      "412655656           1\n",
      "Name: HDFS_OUTPUT_SIZE, dtype: int64\n"
     ]
    }
   ],
   "source": [
    "print('Output size', df2[df2['user.name'] == 'netappiq']['HDFS_OUTPUT_SIZE'].std(), \n",
    "      df2[df2['user.name'] == 'netappiq']['HDFS_OUTPUT_SIZE'].max(),\n",
    "     df2[df2['user.name'] == 'netappiq']['HDFS_OUTPUT_SIZE'].min())\n",
    "\n",
    "print('Input size', df2[df2['user.name'] == 'netappiq']['HDFS_INPUT_SIZE'].std(), \n",
    "      df2[df2['user.name'] == 'netappiq']['HDFS_INPUT_SIZE'].max(),\n",
    "     df2[df2['user.name'] == 'netappiq']['HDFS_INPUT_SIZE'].min())\n",
    "\n",
    "print('Runtime', df2[df2['user.name'] == 'netappiq']['runTime'].std(), \n",
    "      df2[df2['user.name'] == 'netappiq']['runTime'].max(),\n",
    "     df2[df2['user.name'] == 'netappiq']['runTime'].min())\n",
    "\n",
    "print(df2[df2['user.name'] == 'netappiq'][['n_inputs', 'HDFS_INPUT_SIZE', 'HDFS_OUTPUT_SIZE', 'runTime']])\n",
    "\n",
    "pd.set_option('display.max_rows', 130)\n",
    "print(df2[df2['user.name'] == 'netappiq']['HDFS_OUTPUT_SIZE'].value_counts())"
   ]
  },
  {
   "cell_type": "code",
   "execution_count": 140,
   "metadata": {},
   "outputs": [
    {
     "name": "stderr",
     "output_type": "stream",
     "text": [
      "/home/maniaa/.local/lib/python3.6/site-packages/ipykernel_launcher.py:3: SettingWithCopyWarning: \n",
      "A value is trying to be set on a copy of a slice from a DataFrame.\n",
      "Try using .loc[row_indexer,col_indexer] = value instead\n",
      "\n",
      "See the caveats in the documentation: http://pandas.pydata.org/pandas-docs/stable/user_guide/indexing.html#returning-a-view-versus-a-copy\n",
      "  This is separate from the ipykernel package so we can avoid doing imports until\n"
     ]
    },
    {
     "data": {
      "image/png": "[encoded data removed]",
      "text/plain": [
       "<Figure size 432x288 with 1 Axes>"
      ]
     },
     "metadata": {
      "needs_background": "light"
     },
     "output_type": "display_data"
    },
    {
     "data": {
      "image/png": "[encoded data removed]",
      "text/plain": [
       "<Figure size 432x288 with 1 Axes>"
      ]
     },
     "metadata": {
      "needs_background": "light"
     },
     "output_type": "display_data"
    },
    {
     "data": {
      "image/png": "[encoded data removed]",
      "text/plain": [
       "<Figure size 432x288 with 1 Axes>"
      ]
     },
     "metadata": {
      "needs_background": "light"
     },
     "output_type": "display_data"
    }
   ],
   "source": [
    "import matplotlib.pyplot as plt\n",
    "df3 = df2[df2['user.name'] == 'asupdl']\n",
    "df3['ts'] = (df2['submitTime'] - df2['submitTime'].min())//(1000)\n",
    "df3.plot.scatter(x = 'ts', y = 'HDFS_OUTPUT_SIZE')\n",
    "plt.show()\n",
    "\n",
    "df3.plot.scatter(x = 'ts', y = 'HDFS_INPUT_SIZE')\n",
    "plt.show()\n",
    "\n",
    "df3.plot.scatter(x = 'HDFS_INPUT_SIZE', y = 'HDFS_OUTPUT_SIZE')\n",
    "plt.show()"
   ]
  },
  {
   "cell_type": "code",
   "execution_count": null,
   "metadata": {},
   "outputs": [],
   "source": []
  }
 ],
 "metadata": {
  "kernelspec": {
   "display_name": "Python 3",
   "language": "python",
   "name": "python3"
  },
  "language_info": {
   "codemirror_mode": {
    "name": "ipython",
    "version": 3
   },
   "file_extension": ".py",
   "mimetype": "text/x-python",
   "name": "python",
   "nbconvert_exporter": "python",
   "pygments_lexer": "ipython3",
   "version": "3.6.9"
  }
 },
 "nbformat": 4,
 "nbformat_minor": 2
}
